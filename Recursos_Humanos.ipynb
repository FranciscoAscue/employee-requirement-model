{
 "cells": [
  {
   "cell_type": "markdown",
   "metadata": {
    "id": "bUYVSn0sy3fF"
   },
   "source": [
    " ![picture](https://drive.google.com/uc?export=view&id=1KaUW3_JAieeY7WVNfoRiTSr2JsaeAcXi)"
   ]
  },
  {
   "cell_type": "markdown",
   "metadata": {
    "id": "HXk3ooF39YPa"
   },
   "source": [
    "# **Reclutamiento de Empleados con Aprendizaje Automático | Colocación Laboral con Python | Sistema de Adquisición de Talento en RR.HH.**\n",
    "\n",
    "En el mundo acelerado de hoy, las empresas buscan constantemente formas innovadoras para optimizar sus procesos, y la gestión de recursos humanos (RR.HH.) no es una excepción. Los métodos de reclutamiento tradicionales suelen ser consumidores de tiempo y carecen de la eficiencia necesaria para identificar a los mejores candidatos para el trabajo. Sin embargo, con los avances en aprendizaje automático y análisis de datos, los profesionales de RR.HH. ahora tienen herramientas poderosas a su disposición para revolucionar el proceso de reclutamiento.\n",
    "\n",
    "\n"
   ]
  },
  {
   "cell_type": "markdown",
   "metadata": {
    "id": "jH84nfP8-kcx"
   },
   "source": [
    "## **Entendimiento del Proyecto:**\n",
    "El proyecto está diseñado para aprovechar las técnicas de ML para predecir colocaciones laborales basadas en varios factores, como el rendimiento académico, la experiencia laboral, la especialización, y más.\n",
    "\n",
    "Al analizar los datos históricos de empleados anteriores, el sistema busca identificar patrones y correlaciones que puedan predecir si un candidato es probable que sea colocado o no."
   ]
  },
  {
   "cell_type": "markdown",
   "metadata": {
    "id": "j8l7a8jjy1GB"
   },
   "source": []
  },
  {
   "cell_type": "code",
   "execution_count": 124,
   "metadata": {
    "id": "qrav_KXF4pqy"
   },
   "outputs": [],
   "source": [
    "import numpy as np\n",
    "import pandas as pd"
   ]
  },
  {
   "cell_type": "code",
   "execution_count": 131,
   "metadata": {
    "id": "OScWDqpK47Kn"
   },
   "outputs": [],
   "source": [
    "df = pd.read_csv(\"https://raw.githubusercontent.com/germaingarcia/Files_Lectures/main/Placement_Data_Full_Class.csv\")"
   ]
  },
  {
   "cell_type": "code",
   "execution_count": 72,
   "metadata": {
    "id": "ArJ-D30x5N65"
   },
   "outputs": [],
   "source": [
    "# mostramos la estructura del dataframe : head"
   ]
  },
  {
   "cell_type": "markdown",
   "metadata": {
    "id": "lTRV_j-R7d_u"
   },
   "source": [
    "## **Diccionario**\n",
    "\n",
    "1. **Sl_no**: Número de serie o identificador único para cada entrada o persona.\n",
    "2. **gender**: Género del individuo.\n",
    "3. **ssc_p**: Porcentaje obtenido en los exámenes de secundaria (SSC suele referirse a Secondary School Certificate).\n",
    "4. **ssc_b**: Junta o comité organizador de los exámenes de secundaria.\n",
    "5. **hsc_p**: Porcentaje obtenido en los exámenes de educación superior secundaria (HSC se refiere a Higher Secondary Certificate).\n",
    "6. **hsc_b**: Junta o comité organizador de los exámenes de educación superior secundaria.\n",
    "7. **hsc_s**: Especialización o área de estudio en la educación superior secundaria (ciencias, comercio, arte, etc.).\n",
    "8. **degree_p**: Porcentaje obtenido en el grado universitario.\n",
    "9. **degree_t**: Tipo de grado o campo de estudio en la educación universitaria (por ejemplo, tecnología, artes, comercio).\n",
    "10. **workex**: Experiencia laboral (generalmente indicado como 'Yes' o 'No').\n",
    "11. **etest_p**: Porcentaje obtenido en un examen de prueba, posiblemente un examen de empleabilidad o habilidades específicas.\n",
    "12. **specialisation**: Especialización en estudios de posgrado, especialmente en programas de MBA.\n",
    "13. **mba_p**: Porcentaje obtenido en el programa de MBA.\n",
    "14. **status**: Estado del empleo o resultado del proceso de selección (como 'employed' o 'unemployed').\n",
    "15. **salary**: Salario ofrecido o actual del individuo.\n",
    "\n"
   ]
  },
  {
   "cell_type": "code",
   "execution_count": 132,
   "metadata": {
    "id": "xOC96gy56ypL"
   },
   "outputs": [],
   "source": [
    "#Analizamos que variables no ayudan y lo eliminamos: ssc_b','hsc_b','hsc_s','degree_t','salary\n",
    "#Código aquí\n",
    "df.drop(columns=['ssc_b','hsc_b','hsc_s','degree_t','salary'], inplace=True)"
   ]
  },
  {
   "cell_type": "code",
   "execution_count": 133,
   "metadata": {},
   "outputs": [
    {
     "data": {
      "text/html": [
       "<div>\n",
       "<style scoped>\n",
       "    .dataframe tbody tr th:only-of-type {\n",
       "        vertical-align: middle;\n",
       "    }\n",
       "\n",
       "    .dataframe tbody tr th {\n",
       "        vertical-align: top;\n",
       "    }\n",
       "\n",
       "    .dataframe thead th {\n",
       "        text-align: right;\n",
       "    }\n",
       "</style>\n",
       "<table border=\"1\" class=\"dataframe\">\n",
       "  <thead>\n",
       "    <tr style=\"text-align: right;\">\n",
       "      <th></th>\n",
       "      <th>sl_no</th>\n",
       "      <th>gender</th>\n",
       "      <th>ssc_p</th>\n",
       "      <th>hsc_p</th>\n",
       "      <th>degree_p</th>\n",
       "      <th>workex</th>\n",
       "      <th>etest_p</th>\n",
       "      <th>specialisation</th>\n",
       "      <th>mba_p</th>\n",
       "      <th>status</th>\n",
       "    </tr>\n",
       "  </thead>\n",
       "  <tbody>\n",
       "    <tr>\n",
       "      <th>0</th>\n",
       "      <td>1</td>\n",
       "      <td>M</td>\n",
       "      <td>67.00</td>\n",
       "      <td>91.00</td>\n",
       "      <td>58.00</td>\n",
       "      <td>No</td>\n",
       "      <td>55.0</td>\n",
       "      <td>Mkt&amp;HR</td>\n",
       "      <td>58.80</td>\n",
       "      <td>Placed</td>\n",
       "    </tr>\n",
       "    <tr>\n",
       "      <th>1</th>\n",
       "      <td>2</td>\n",
       "      <td>M</td>\n",
       "      <td>79.33</td>\n",
       "      <td>78.33</td>\n",
       "      <td>77.48</td>\n",
       "      <td>Yes</td>\n",
       "      <td>86.5</td>\n",
       "      <td>Mkt&amp;Fin</td>\n",
       "      <td>66.28</td>\n",
       "      <td>Placed</td>\n",
       "    </tr>\n",
       "    <tr>\n",
       "      <th>2</th>\n",
       "      <td>3</td>\n",
       "      <td>M</td>\n",
       "      <td>65.00</td>\n",
       "      <td>68.00</td>\n",
       "      <td>64.00</td>\n",
       "      <td>No</td>\n",
       "      <td>75.0</td>\n",
       "      <td>Mkt&amp;Fin</td>\n",
       "      <td>57.80</td>\n",
       "      <td>Placed</td>\n",
       "    </tr>\n",
       "    <tr>\n",
       "      <th>3</th>\n",
       "      <td>4</td>\n",
       "      <td>M</td>\n",
       "      <td>56.00</td>\n",
       "      <td>52.00</td>\n",
       "      <td>52.00</td>\n",
       "      <td>No</td>\n",
       "      <td>66.0</td>\n",
       "      <td>Mkt&amp;HR</td>\n",
       "      <td>59.43</td>\n",
       "      <td>Not Placed</td>\n",
       "    </tr>\n",
       "    <tr>\n",
       "      <th>4</th>\n",
       "      <td>5</td>\n",
       "      <td>M</td>\n",
       "      <td>85.80</td>\n",
       "      <td>73.60</td>\n",
       "      <td>73.30</td>\n",
       "      <td>No</td>\n",
       "      <td>96.8</td>\n",
       "      <td>Mkt&amp;Fin</td>\n",
       "      <td>55.50</td>\n",
       "      <td>Placed</td>\n",
       "    </tr>\n",
       "  </tbody>\n",
       "</table>\n",
       "</div>"
      ],
      "text/plain": [
       "   sl_no gender  ssc_p  hsc_p  degree_p workex  etest_p specialisation  mba_p  \\\n",
       "0      1      M  67.00  91.00     58.00     No     55.0         Mkt&HR  58.80   \n",
       "1      2      M  79.33  78.33     77.48    Yes     86.5        Mkt&Fin  66.28   \n",
       "2      3      M  65.00  68.00     64.00     No     75.0        Mkt&Fin  57.80   \n",
       "3      4      M  56.00  52.00     52.00     No     66.0         Mkt&HR  59.43   \n",
       "4      5      M  85.80  73.60     73.30     No     96.8        Mkt&Fin  55.50   \n",
       "\n",
       "       status  \n",
       "0      Placed  \n",
       "1      Placed  \n",
       "2      Placed  \n",
       "3  Not Placed  \n",
       "4      Placed  "
      ]
     },
     "execution_count": 133,
     "metadata": {},
     "output_type": "execute_result"
    }
   ],
   "source": [
    "tmp=df\n",
    "df.head()"
   ]
  },
  {
   "cell_type": "markdown",
   "metadata": {
    "id": "Kwq1QHgSzHgm"
   },
   "source": [
    "## Preprocessing\n",
    "\n",
    "## Encoding\n",
    "\n",
    " Limpiar y preparar el conjunto de datos para el análisis. Esto incluye manejar valores faltantes, codificar variables categóricas y escalar características numéricas."
   ]
  },
  {
   "cell_type": "code",
   "execution_count": 134,
   "metadata": {
    "id": "NTJPSWokzbXX"
   },
   "outputs": [
    {
     "name": "stdout",
     "output_type": "stream",
     "text": [
      "['Mkt&HR' 'Mkt&Fin']\n",
      "['Placed' 'Not Placed']\n",
      "['No' 'Yes']\n",
      "['M' 'F']\n"
     ]
    }
   ],
   "source": [
    "# codigica genero, experiencia de trabajo, estatus y especialización\n",
    "# Puedes usar esta celda como punto de partida\n",
    "print(df['specialisation'].unique())\n",
    "print(df['status'].unique())\n",
    "print(df['workex'].unique())\n",
    "print(df['gender'].unique())"
   ]
  },
  {
   "cell_type": "code",
   "execution_count": 135,
   "metadata": {},
   "outputs": [
    {
     "data": {
      "text/html": [
       "<div>\n",
       "<style scoped>\n",
       "    .dataframe tbody tr th:only-of-type {\n",
       "        vertical-align: middle;\n",
       "    }\n",
       "\n",
       "    .dataframe tbody tr th {\n",
       "        vertical-align: top;\n",
       "    }\n",
       "\n",
       "    .dataframe thead th {\n",
       "        text-align: right;\n",
       "    }\n",
       "</style>\n",
       "<table border=\"1\" class=\"dataframe\">\n",
       "  <thead>\n",
       "    <tr style=\"text-align: right;\">\n",
       "      <th></th>\n",
       "      <th>sl_no</th>\n",
       "      <th>gender</th>\n",
       "      <th>ssc_p</th>\n",
       "      <th>hsc_p</th>\n",
       "      <th>degree_p</th>\n",
       "      <th>workex</th>\n",
       "      <th>etest_p</th>\n",
       "      <th>specialisation</th>\n",
       "      <th>mba_p</th>\n",
       "      <th>status</th>\n",
       "    </tr>\n",
       "  </thead>\n",
       "  <tbody>\n",
       "    <tr>\n",
       "      <th>0</th>\n",
       "      <td>1</td>\n",
       "      <td>0</td>\n",
       "      <td>67.00</td>\n",
       "      <td>91.00</td>\n",
       "      <td>58.00</td>\n",
       "      <td>0</td>\n",
       "      <td>55.0</td>\n",
       "      <td>0</td>\n",
       "      <td>58.80</td>\n",
       "      <td>0</td>\n",
       "    </tr>\n",
       "    <tr>\n",
       "      <th>1</th>\n",
       "      <td>2</td>\n",
       "      <td>0</td>\n",
       "      <td>79.33</td>\n",
       "      <td>78.33</td>\n",
       "      <td>77.48</td>\n",
       "      <td>1</td>\n",
       "      <td>86.5</td>\n",
       "      <td>1</td>\n",
       "      <td>66.28</td>\n",
       "      <td>0</td>\n",
       "    </tr>\n",
       "    <tr>\n",
       "      <th>2</th>\n",
       "      <td>3</td>\n",
       "      <td>0</td>\n",
       "      <td>65.00</td>\n",
       "      <td>68.00</td>\n",
       "      <td>64.00</td>\n",
       "      <td>0</td>\n",
       "      <td>75.0</td>\n",
       "      <td>1</td>\n",
       "      <td>57.80</td>\n",
       "      <td>0</td>\n",
       "    </tr>\n",
       "    <tr>\n",
       "      <th>3</th>\n",
       "      <td>4</td>\n",
       "      <td>0</td>\n",
       "      <td>56.00</td>\n",
       "      <td>52.00</td>\n",
       "      <td>52.00</td>\n",
       "      <td>0</td>\n",
       "      <td>66.0</td>\n",
       "      <td>0</td>\n",
       "      <td>59.43</td>\n",
       "      <td>1</td>\n",
       "    </tr>\n",
       "    <tr>\n",
       "      <th>4</th>\n",
       "      <td>5</td>\n",
       "      <td>0</td>\n",
       "      <td>85.80</td>\n",
       "      <td>73.60</td>\n",
       "      <td>73.30</td>\n",
       "      <td>0</td>\n",
       "      <td>96.8</td>\n",
       "      <td>1</td>\n",
       "      <td>55.50</td>\n",
       "      <td>0</td>\n",
       "    </tr>\n",
       "  </tbody>\n",
       "</table>\n",
       "</div>"
      ],
      "text/plain": [
       "   sl_no  gender  ssc_p  hsc_p  degree_p  workex  etest_p  specialisation  \\\n",
       "0      1       0  67.00  91.00     58.00       0     55.0               0   \n",
       "1      2       0  79.33  78.33     77.48       1     86.5               1   \n",
       "2      3       0  65.00  68.00     64.00       0     75.0               1   \n",
       "3      4       0  56.00  52.00     52.00       0     66.0               0   \n",
       "4      5       0  85.80  73.60     73.30       0     96.8               1   \n",
       "\n",
       "   mba_p  status  \n",
       "0  58.80       0  \n",
       "1  66.28       0  \n",
       "2  57.80       0  \n",
       "3  59.43       1  \n",
       "4  55.50       0  "
      ]
     },
     "execution_count": 135,
     "metadata": {},
     "output_type": "execute_result"
    }
   ],
   "source": [
    "specialisation_mapping = {'Mkt&HR': 0, 'Mkt&Fin': 1}\n",
    "status_mapping = {'Placed': 0, 'Not Placed': 1}\n",
    "workex_mapping = {'No': 0, 'Yes': 1}\n",
    "gender_mapping = {'M': 0, 'F': 1}\n",
    "\n",
    "df['specialisation'] = df['specialisation'].map(specialisation_mapping)\n",
    "df['status'] = df['status'].map(status_mapping)\n",
    "df['workex'] = df['workex'].map(workex_mapping)\n",
    "df['gender'] = df['gender'].map(gender_mapping)\n",
    "\n",
    "df.head()"
   ]
  },
  {
   "cell_type": "code",
   "execution_count": 136,
   "metadata": {},
   "outputs": [
    {
     "name": "stdout",
     "output_type": "stream",
     "text": [
      "[0 1]\n",
      "[0 1]\n",
      "[0 1]\n",
      "[0 1]\n"
     ]
    }
   ],
   "source": [
    "print(df['specialisation'].unique())\n",
    "print(df['status'].unique())\n",
    "print(df['workex'].unique())\n",
    "print(df['gender'].unique())"
   ]
  },
  {
   "cell_type": "code",
   "execution_count": 137,
   "metadata": {},
   "outputs": [
    {
     "data": {
      "text/html": [
       "<div>\n",
       "<style scoped>\n",
       "    .dataframe tbody tr th:only-of-type {\n",
       "        vertical-align: middle;\n",
       "    }\n",
       "\n",
       "    .dataframe tbody tr th {\n",
       "        vertical-align: top;\n",
       "    }\n",
       "\n",
       "    .dataframe thead th {\n",
       "        text-align: right;\n",
       "    }\n",
       "</style>\n",
       "<table border=\"1\" class=\"dataframe\">\n",
       "  <thead>\n",
       "    <tr style=\"text-align: right;\">\n",
       "      <th></th>\n",
       "      <th>sl_no</th>\n",
       "      <th>gender</th>\n",
       "      <th>ssc_p</th>\n",
       "      <th>hsc_p</th>\n",
       "      <th>degree_p</th>\n",
       "      <th>workex</th>\n",
       "      <th>etest_p</th>\n",
       "      <th>specialisation</th>\n",
       "      <th>mba_p</th>\n",
       "      <th>status</th>\n",
       "    </tr>\n",
       "  </thead>\n",
       "  <tbody>\n",
       "    <tr>\n",
       "      <th>0</th>\n",
       "      <td>1</td>\n",
       "      <td>0</td>\n",
       "      <td>67.00</td>\n",
       "      <td>91.00</td>\n",
       "      <td>58.00</td>\n",
       "      <td>0</td>\n",
       "      <td>55.0</td>\n",
       "      <td>0</td>\n",
       "      <td>58.80</td>\n",
       "      <td>0</td>\n",
       "    </tr>\n",
       "    <tr>\n",
       "      <th>1</th>\n",
       "      <td>2</td>\n",
       "      <td>0</td>\n",
       "      <td>79.33</td>\n",
       "      <td>78.33</td>\n",
       "      <td>77.48</td>\n",
       "      <td>1</td>\n",
       "      <td>86.5</td>\n",
       "      <td>1</td>\n",
       "      <td>66.28</td>\n",
       "      <td>0</td>\n",
       "    </tr>\n",
       "    <tr>\n",
       "      <th>2</th>\n",
       "      <td>3</td>\n",
       "      <td>0</td>\n",
       "      <td>65.00</td>\n",
       "      <td>68.00</td>\n",
       "      <td>64.00</td>\n",
       "      <td>0</td>\n",
       "      <td>75.0</td>\n",
       "      <td>1</td>\n",
       "      <td>57.80</td>\n",
       "      <td>0</td>\n",
       "    </tr>\n",
       "    <tr>\n",
       "      <th>3</th>\n",
       "      <td>4</td>\n",
       "      <td>0</td>\n",
       "      <td>56.00</td>\n",
       "      <td>52.00</td>\n",
       "      <td>52.00</td>\n",
       "      <td>0</td>\n",
       "      <td>66.0</td>\n",
       "      <td>0</td>\n",
       "      <td>59.43</td>\n",
       "      <td>1</td>\n",
       "    </tr>\n",
       "    <tr>\n",
       "      <th>4</th>\n",
       "      <td>5</td>\n",
       "      <td>0</td>\n",
       "      <td>85.80</td>\n",
       "      <td>73.60</td>\n",
       "      <td>73.30</td>\n",
       "      <td>0</td>\n",
       "      <td>96.8</td>\n",
       "      <td>1</td>\n",
       "      <td>55.50</td>\n",
       "      <td>0</td>\n",
       "    </tr>\n",
       "  </tbody>\n",
       "</table>\n",
       "</div>"
      ],
      "text/plain": [
       "   sl_no  gender  ssc_p  hsc_p  degree_p  workex  etest_p  specialisation  \\\n",
       "0      1       0  67.00  91.00     58.00       0     55.0               0   \n",
       "1      2       0  79.33  78.33     77.48       1     86.5               1   \n",
       "2      3       0  65.00  68.00     64.00       0     75.0               1   \n",
       "3      4       0  56.00  52.00     52.00       0     66.0               0   \n",
       "4      5       0  85.80  73.60     73.30       0     96.8               1   \n",
       "\n",
       "   mba_p  status  \n",
       "0  58.80       0  \n",
       "1  66.28       0  \n",
       "2  57.80       0  \n",
       "3  59.43       1  \n",
       "4  55.50       0  "
      ]
     },
     "execution_count": 137,
     "metadata": {},
     "output_type": "execute_result"
    }
   ],
   "source": [
    "df.head()"
   ]
  },
  {
   "cell_type": "code",
   "execution_count": null,
   "metadata": {},
   "outputs": [],
   "source": []
  },
  {
   "cell_type": "markdown",
   "metadata": {
    "id": "OMeMy8gEzvmP"
   },
   "source": [
    "# Balance Dataset\n"
   ]
  },
  {
   "cell_type": "code",
   "execution_count": 138,
   "metadata": {
    "colab": {
     "base_uri": "https://localhost:8080/"
    },
    "id": "1--gLVkczn1Y",
    "outputId": "37d4b82f-0862-4ad2-a724-2589dcef7974"
   },
   "outputs": [
    {
     "data": {
      "text/plain": [
       "status\n",
       "0    148\n",
       "1     67\n",
       "Name: count, dtype: int64"
      ]
     },
     "execution_count": 138,
     "metadata": {},
     "output_type": "execute_result"
    }
   ],
   "source": [
    "df['status'].value_counts()"
   ]
  },
  {
   "cell_type": "code",
   "execution_count": 139,
   "metadata": {
    "id": "B9IUCQJsz6L4"
   },
   "outputs": [],
   "source": [
    "from sklearn.utils import resample\n",
    "\n",
    "minority_class = df[df['status'] == 0]\n",
    "majority_class = df[df['status'] == 1]\n",
    "\n",
    "minority_class_upsampled = resample(minority_class, \n",
    "                                    replace=True,     \n",
    "                                    n_samples=len(majority_class),    \n",
    "                                    random_state=42)\n",
    "\n",
    "balanced_data = pd.concat([majority_class, minority_class_upsampled])\n",
    "\n"
   ]
  },
  {
   "cell_type": "code",
   "execution_count": 140,
   "metadata": {
    "colab": {
     "base_uri": "https://localhost:8080/"
    },
    "id": "P7WSMx360ANq",
    "outputId": "135133f3-dac1-48f0-ed64-0907e2db2a6b"
   },
   "outputs": [
    {
     "data": {
      "text/plain": [
       "status\n",
       "1    67\n",
       "0    67\n",
       "Name: count, dtype: int64"
      ]
     },
     "execution_count": 140,
     "metadata": {},
     "output_type": "execute_result"
    }
   ],
   "source": [
    "balanced_data['status'].value_counts()"
   ]
  },
  {
   "cell_type": "markdown",
   "metadata": {
    "id": "PgAebiA8z_pq"
   },
   "source": [
    "# Train Test Split"
   ]
  },
  {
   "cell_type": "code",
   "execution_count": 141,
   "metadata": {
    "id": "FE5S_HgO0quM"
   },
   "outputs": [],
   "source": [
    "# Separación de feature y target\n",
    "X = balanced_data.copy().drop('status', axis=1)\n",
    "y = balanced_data['status']\n"
   ]
  },
  {
   "cell_type": "code",
   "execution_count": 142,
   "metadata": {
    "colab": {
     "base_uri": "https://localhost:8080/"
    },
    "id": "TY-y1EPs01JG",
    "outputId": "cf6f0b60-dea2-4d78-e314-33c8e404b184"
   },
   "outputs": [
    {
     "name": "stdout",
     "output_type": "stream",
     "text": [
      "Forma de X_train: (93, 9)\n",
      "Forma de X_test: (41, 9)\n",
      "Forma de y_train: (93,)\n",
      "Forma de y_test: (41,)\n"
     ]
    }
   ],
   "source": [
    "#Train Test Split con test_size=0.3\n",
    "from sklearn.model_selection import train_test_split\n",
    "X_train, X_test, y_train, y_test = train_test_split(X, y, test_size=0.3, random_state=42)\n",
    "\n",
    "print(\"Forma de X_train:\", X_train.shape)\n",
    "print(\"Forma de X_test:\", X_test.shape)\n",
    "print(\"Forma de y_train:\", y_train.shape)\n",
    "print(\"Forma de y_test:\", y_test.shape)"
   ]
  },
  {
   "cell_type": "code",
   "execution_count": 143,
   "metadata": {},
   "outputs": [
    {
     "data": {
      "text/html": [
       "<div>\n",
       "<style scoped>\n",
       "    .dataframe tbody tr th:only-of-type {\n",
       "        vertical-align: middle;\n",
       "    }\n",
       "\n",
       "    .dataframe tbody tr th {\n",
       "        vertical-align: top;\n",
       "    }\n",
       "\n",
       "    .dataframe thead th {\n",
       "        text-align: right;\n",
       "    }\n",
       "</style>\n",
       "<table border=\"1\" class=\"dataframe\">\n",
       "  <thead>\n",
       "    <tr style=\"text-align: right;\">\n",
       "      <th></th>\n",
       "      <th>sl_no</th>\n",
       "      <th>gender</th>\n",
       "      <th>ssc_p</th>\n",
       "      <th>hsc_p</th>\n",
       "      <th>degree_p</th>\n",
       "      <th>workex</th>\n",
       "      <th>etest_p</th>\n",
       "      <th>specialisation</th>\n",
       "      <th>mba_p</th>\n",
       "    </tr>\n",
       "  </thead>\n",
       "  <tbody>\n",
       "    <tr>\n",
       "      <th>64</th>\n",
       "      <td>65</td>\n",
       "      <td>0</td>\n",
       "      <td>80.00</td>\n",
       "      <td>73.00</td>\n",
       "      <td>75.00</td>\n",
       "      <td>0</td>\n",
       "      <td>61.00</td>\n",
       "      <td>1</td>\n",
       "      <td>58.78</td>\n",
       "    </tr>\n",
       "    <tr>\n",
       "      <th>214</th>\n",
       "      <td>215</td>\n",
       "      <td>0</td>\n",
       "      <td>62.00</td>\n",
       "      <td>58.00</td>\n",
       "      <td>53.00</td>\n",
       "      <td>0</td>\n",
       "      <td>89.00</td>\n",
       "      <td>0</td>\n",
       "      <td>60.22</td>\n",
       "    </tr>\n",
       "    <tr>\n",
       "      <th>125</th>\n",
       "      <td>126</td>\n",
       "      <td>1</td>\n",
       "      <td>84.00</td>\n",
       "      <td>73.00</td>\n",
       "      <td>73.00</td>\n",
       "      <td>0</td>\n",
       "      <td>75.00</td>\n",
       "      <td>1</td>\n",
       "      <td>73.33</td>\n",
       "    </tr>\n",
       "    <tr>\n",
       "      <th>52</th>\n",
       "      <td>53</td>\n",
       "      <td>1</td>\n",
       "      <td>40.89</td>\n",
       "      <td>45.83</td>\n",
       "      <td>53.00</td>\n",
       "      <td>0</td>\n",
       "      <td>71.20</td>\n",
       "      <td>0</td>\n",
       "      <td>65.49</td>\n",
       "    </tr>\n",
       "    <tr>\n",
       "      <th>155</th>\n",
       "      <td>156</td>\n",
       "      <td>0</td>\n",
       "      <td>51.57</td>\n",
       "      <td>74.66</td>\n",
       "      <td>59.90</td>\n",
       "      <td>1</td>\n",
       "      <td>56.15</td>\n",
       "      <td>0</td>\n",
       "      <td>65.99</td>\n",
       "    </tr>\n",
       "    <tr>\n",
       "      <th>190</th>\n",
       "      <td>191</td>\n",
       "      <td>1</td>\n",
       "      <td>64.00</td>\n",
       "      <td>70.20</td>\n",
       "      <td>61.00</td>\n",
       "      <td>0</td>\n",
       "      <td>50.00</td>\n",
       "      <td>1</td>\n",
       "      <td>62.50</td>\n",
       "    </tr>\n",
       "    <tr>\n",
       "      <th>36</th>\n",
       "      <td>37</td>\n",
       "      <td>0</td>\n",
       "      <td>51.00</td>\n",
       "      <td>44.00</td>\n",
       "      <td>57.00</td>\n",
       "      <td>0</td>\n",
       "      <td>64.00</td>\n",
       "      <td>1</td>\n",
       "      <td>51.45</td>\n",
       "    </tr>\n",
       "    <tr>\n",
       "      <th>76</th>\n",
       "      <td>77</td>\n",
       "      <td>1</td>\n",
       "      <td>66.50</td>\n",
       "      <td>70.40</td>\n",
       "      <td>71.93</td>\n",
       "      <td>0</td>\n",
       "      <td>61.00</td>\n",
       "      <td>1</td>\n",
       "      <td>64.27</td>\n",
       "    </tr>\n",
       "    <tr>\n",
       "      <th>30</th>\n",
       "      <td>31</td>\n",
       "      <td>1</td>\n",
       "      <td>64.00</td>\n",
       "      <td>73.50</td>\n",
       "      <td>73.00</td>\n",
       "      <td>0</td>\n",
       "      <td>52.00</td>\n",
       "      <td>0</td>\n",
       "      <td>56.70</td>\n",
       "    </tr>\n",
       "    <tr>\n",
       "      <th>104</th>\n",
       "      <td>105</td>\n",
       "      <td>0</td>\n",
       "      <td>69.00</td>\n",
       "      <td>63.00</td>\n",
       "      <td>65.00</td>\n",
       "      <td>1</td>\n",
       "      <td>55.00</td>\n",
       "      <td>0</td>\n",
       "      <td>58.23</td>\n",
       "    </tr>\n",
       "    <tr>\n",
       "      <th>159</th>\n",
       "      <td>160</td>\n",
       "      <td>0</td>\n",
       "      <td>52.00</td>\n",
       "      <td>49.00</td>\n",
       "      <td>58.00</td>\n",
       "      <td>0</td>\n",
       "      <td>62.00</td>\n",
       "      <td>0</td>\n",
       "      <td>60.59</td>\n",
       "    </tr>\n",
       "    <tr>\n",
       "      <th>144</th>\n",
       "      <td>145</td>\n",
       "      <td>0</td>\n",
       "      <td>52.00</td>\n",
       "      <td>50.00</td>\n",
       "      <td>61.00</td>\n",
       "      <td>0</td>\n",
       "      <td>60.00</td>\n",
       "      <td>1</td>\n",
       "      <td>58.52</td>\n",
       "    </tr>\n",
       "    <tr>\n",
       "      <th>91</th>\n",
       "      <td>92</td>\n",
       "      <td>0</td>\n",
       "      <td>52.00</td>\n",
       "      <td>57.00</td>\n",
       "      <td>50.80</td>\n",
       "      <td>0</td>\n",
       "      <td>67.00</td>\n",
       "      <td>0</td>\n",
       "      <td>62.79</td>\n",
       "    </tr>\n",
       "    <tr>\n",
       "      <th>167</th>\n",
       "      <td>168</td>\n",
       "      <td>0</td>\n",
       "      <td>67.90</td>\n",
       "      <td>62.00</td>\n",
       "      <td>67.00</td>\n",
       "      <td>1</td>\n",
       "      <td>58.10</td>\n",
       "      <td>1</td>\n",
       "      <td>75.71</td>\n",
       "    </tr>\n",
       "    <tr>\n",
       "      <th>142</th>\n",
       "      <td>143</td>\n",
       "      <td>0</td>\n",
       "      <td>85.00</td>\n",
       "      <td>60.00</td>\n",
       "      <td>73.43</td>\n",
       "      <td>1</td>\n",
       "      <td>60.00</td>\n",
       "      <td>1</td>\n",
       "      <td>61.29</td>\n",
       "    </tr>\n",
       "    <tr>\n",
       "      <th>100</th>\n",
       "      <td>101</td>\n",
       "      <td>1</td>\n",
       "      <td>45.00</td>\n",
       "      <td>57.00</td>\n",
       "      <td>58.00</td>\n",
       "      <td>1</td>\n",
       "      <td>56.39</td>\n",
       "      <td>0</td>\n",
       "      <td>64.95</td>\n",
       "    </tr>\n",
       "    <tr>\n",
       "      <th>124</th>\n",
       "      <td>125</td>\n",
       "      <td>0</td>\n",
       "      <td>67.00</td>\n",
       "      <td>71.00</td>\n",
       "      <td>64.33</td>\n",
       "      <td>1</td>\n",
       "      <td>64.00</td>\n",
       "      <td>0</td>\n",
       "      <td>61.26</td>\n",
       "    </tr>\n",
       "    <tr>\n",
       "      <th>12</th>\n",
       "      <td>13</td>\n",
       "      <td>1</td>\n",
       "      <td>47.00</td>\n",
       "      <td>55.00</td>\n",
       "      <td>65.00</td>\n",
       "      <td>0</td>\n",
       "      <td>62.00</td>\n",
       "      <td>0</td>\n",
       "      <td>65.04</td>\n",
       "    </tr>\n",
       "    <tr>\n",
       "      <th>206</th>\n",
       "      <td>207</td>\n",
       "      <td>0</td>\n",
       "      <td>41.00</td>\n",
       "      <td>42.00</td>\n",
       "      <td>60.00</td>\n",
       "      <td>0</td>\n",
       "      <td>97.00</td>\n",
       "      <td>1</td>\n",
       "      <td>53.39</td>\n",
       "    </tr>\n",
       "    <tr>\n",
       "      <th>191</th>\n",
       "      <td>192</td>\n",
       "      <td>0</td>\n",
       "      <td>67.00</td>\n",
       "      <td>61.00</td>\n",
       "      <td>72.00</td>\n",
       "      <td>0</td>\n",
       "      <td>72.00</td>\n",
       "      <td>1</td>\n",
       "      <td>61.01</td>\n",
       "    </tr>\n",
       "    <tr>\n",
       "      <th>57</th>\n",
       "      <td>58</td>\n",
       "      <td>0</td>\n",
       "      <td>68.00</td>\n",
       "      <td>76.00</td>\n",
       "      <td>74.00</td>\n",
       "      <td>0</td>\n",
       "      <td>80.00</td>\n",
       "      <td>1</td>\n",
       "      <td>63.59</td>\n",
       "    </tr>\n",
       "    <tr>\n",
       "      <th>87</th>\n",
       "      <td>88</td>\n",
       "      <td>0</td>\n",
       "      <td>59.60</td>\n",
       "      <td>51.00</td>\n",
       "      <td>60.00</td>\n",
       "      <td>0</td>\n",
       "      <td>75.00</td>\n",
       "      <td>0</td>\n",
       "      <td>59.08</td>\n",
       "    </tr>\n",
       "    <tr>\n",
       "      <th>46</th>\n",
       "      <td>47</td>\n",
       "      <td>1</td>\n",
       "      <td>70.89</td>\n",
       "      <td>71.98</td>\n",
       "      <td>65.60</td>\n",
       "      <td>0</td>\n",
       "      <td>68.00</td>\n",
       "      <td>0</td>\n",
       "      <td>71.63</td>\n",
       "    </tr>\n",
       "    <tr>\n",
       "      <th>51</th>\n",
       "      <td>52</td>\n",
       "      <td>0</td>\n",
       "      <td>54.40</td>\n",
       "      <td>61.12</td>\n",
       "      <td>56.20</td>\n",
       "      <td>0</td>\n",
       "      <td>67.00</td>\n",
       "      <td>0</td>\n",
       "      <td>62.65</td>\n",
       "    </tr>\n",
       "    <tr>\n",
       "      <th>31</th>\n",
       "      <td>32</td>\n",
       "      <td>1</td>\n",
       "      <td>67.00</td>\n",
       "      <td>53.00</td>\n",
       "      <td>65.00</td>\n",
       "      <td>0</td>\n",
       "      <td>64.00</td>\n",
       "      <td>0</td>\n",
       "      <td>58.32</td>\n",
       "    </tr>\n",
       "    <tr>\n",
       "      <th>187</th>\n",
       "      <td>188</td>\n",
       "      <td>0</td>\n",
       "      <td>78.50</td>\n",
       "      <td>65.50</td>\n",
       "      <td>67.00</td>\n",
       "      <td>1</td>\n",
       "      <td>95.00</td>\n",
       "      <td>1</td>\n",
       "      <td>64.86</td>\n",
       "    </tr>\n",
       "    <tr>\n",
       "      <th>161</th>\n",
       "      <td>162</td>\n",
       "      <td>0</td>\n",
       "      <td>55.60</td>\n",
       "      <td>51.00</td>\n",
       "      <td>57.50</td>\n",
       "      <td>0</td>\n",
       "      <td>57.63</td>\n",
       "      <td>0</td>\n",
       "      <td>62.72</td>\n",
       "    </tr>\n",
       "    <tr>\n",
       "      <th>34</th>\n",
       "      <td>35</td>\n",
       "      <td>0</td>\n",
       "      <td>62.00</td>\n",
       "      <td>51.00</td>\n",
       "      <td>52.00</td>\n",
       "      <td>0</td>\n",
       "      <td>68.44</td>\n",
       "      <td>0</td>\n",
       "      <td>62.77</td>\n",
       "    </tr>\n",
       "    <tr>\n",
       "      <th>173</th>\n",
       "      <td>174</td>\n",
       "      <td>1</td>\n",
       "      <td>52.00</td>\n",
       "      <td>52.00</td>\n",
       "      <td>55.00</td>\n",
       "      <td>0</td>\n",
       "      <td>67.00</td>\n",
       "      <td>0</td>\n",
       "      <td>59.32</td>\n",
       "    </tr>\n",
       "    <tr>\n",
       "      <th>73</th>\n",
       "      <td>74</td>\n",
       "      <td>0</td>\n",
       "      <td>64.60</td>\n",
       "      <td>83.83</td>\n",
       "      <td>71.72</td>\n",
       "      <td>0</td>\n",
       "      <td>86.00</td>\n",
       "      <td>1</td>\n",
       "      <td>59.75</td>\n",
       "    </tr>\n",
       "    <tr>\n",
       "      <th>77</th>\n",
       "      <td>78</td>\n",
       "      <td>0</td>\n",
       "      <td>64.00</td>\n",
       "      <td>80.00</td>\n",
       "      <td>65.00</td>\n",
       "      <td>1</td>\n",
       "      <td>69.00</td>\n",
       "      <td>1</td>\n",
       "      <td>57.65</td>\n",
       "    </tr>\n",
       "    <tr>\n",
       "      <th>77</th>\n",
       "      <td>78</td>\n",
       "      <td>0</td>\n",
       "      <td>64.00</td>\n",
       "      <td>80.00</td>\n",
       "      <td>65.00</td>\n",
       "      <td>1</td>\n",
       "      <td>69.00</td>\n",
       "      <td>1</td>\n",
       "      <td>57.65</td>\n",
       "    </tr>\n",
       "    <tr>\n",
       "      <th>120</th>\n",
       "      <td>121</td>\n",
       "      <td>0</td>\n",
       "      <td>58.00</td>\n",
       "      <td>40.00</td>\n",
       "      <td>59.00</td>\n",
       "      <td>0</td>\n",
       "      <td>73.00</td>\n",
       "      <td>0</td>\n",
       "      <td>58.81</td>\n",
       "    </tr>\n",
       "    <tr>\n",
       "      <th>3</th>\n",
       "      <td>4</td>\n",
       "      <td>0</td>\n",
       "      <td>56.00</td>\n",
       "      <td>52.00</td>\n",
       "      <td>52.00</td>\n",
       "      <td>0</td>\n",
       "      <td>66.00</td>\n",
       "      <td>0</td>\n",
       "      <td>59.43</td>\n",
       "    </tr>\n",
       "    <tr>\n",
       "      <th>142</th>\n",
       "      <td>143</td>\n",
       "      <td>0</td>\n",
       "      <td>85.00</td>\n",
       "      <td>60.00</td>\n",
       "      <td>73.43</td>\n",
       "      <td>1</td>\n",
       "      <td>60.00</td>\n",
       "      <td>1</td>\n",
       "      <td>61.29</td>\n",
       "    </tr>\n",
       "    <tr>\n",
       "      <th>182</th>\n",
       "      <td>183</td>\n",
       "      <td>0</td>\n",
       "      <td>52.00</td>\n",
       "      <td>65.00</td>\n",
       "      <td>57.00</td>\n",
       "      <td>1</td>\n",
       "      <td>75.00</td>\n",
       "      <td>1</td>\n",
       "      <td>59.81</td>\n",
       "    </tr>\n",
       "    <tr>\n",
       "      <th>79</th>\n",
       "      <td>80</td>\n",
       "      <td>1</td>\n",
       "      <td>69.00</td>\n",
       "      <td>62.00</td>\n",
       "      <td>66.00</td>\n",
       "      <td>0</td>\n",
       "      <td>75.00</td>\n",
       "      <td>0</td>\n",
       "      <td>67.99</td>\n",
       "    </tr>\n",
       "    <tr>\n",
       "      <th>184</th>\n",
       "      <td>185</td>\n",
       "      <td>1</td>\n",
       "      <td>56.28</td>\n",
       "      <td>62.83</td>\n",
       "      <td>59.79</td>\n",
       "      <td>0</td>\n",
       "      <td>60.00</td>\n",
       "      <td>0</td>\n",
       "      <td>57.29</td>\n",
       "    </tr>\n",
       "    <tr>\n",
       "      <th>72</th>\n",
       "      <td>73</td>\n",
       "      <td>0</td>\n",
       "      <td>84.86</td>\n",
       "      <td>67.00</td>\n",
       "      <td>78.00</td>\n",
       "      <td>0</td>\n",
       "      <td>95.50</td>\n",
       "      <td>1</td>\n",
       "      <td>68.53</td>\n",
       "    </tr>\n",
       "    <tr>\n",
       "      <th>4</th>\n",
       "      <td>5</td>\n",
       "      <td>0</td>\n",
       "      <td>85.80</td>\n",
       "      <td>73.60</td>\n",
       "      <td>73.30</td>\n",
       "      <td>0</td>\n",
       "      <td>96.80</td>\n",
       "      <td>1</td>\n",
       "      <td>55.50</td>\n",
       "    </tr>\n",
       "    <tr>\n",
       "      <th>45</th>\n",
       "      <td>46</td>\n",
       "      <td>1</td>\n",
       "      <td>76.00</td>\n",
       "      <td>64.00</td>\n",
       "      <td>72.00</td>\n",
       "      <td>0</td>\n",
       "      <td>58.00</td>\n",
       "      <td>0</td>\n",
       "      <td>66.53</td>\n",
       "    </tr>\n",
       "  </tbody>\n",
       "</table>\n",
       "</div>"
      ],
      "text/plain": [
       "     sl_no  gender  ssc_p  hsc_p  degree_p  workex  etest_p  specialisation  \\\n",
       "64      65       0  80.00  73.00     75.00       0    61.00               1   \n",
       "214    215       0  62.00  58.00     53.00       0    89.00               0   \n",
       "125    126       1  84.00  73.00     73.00       0    75.00               1   \n",
       "52      53       1  40.89  45.83     53.00       0    71.20               0   \n",
       "155    156       0  51.57  74.66     59.90       1    56.15               0   \n",
       "190    191       1  64.00  70.20     61.00       0    50.00               1   \n",
       "36      37       0  51.00  44.00     57.00       0    64.00               1   \n",
       "76      77       1  66.50  70.40     71.93       0    61.00               1   \n",
       "30      31       1  64.00  73.50     73.00       0    52.00               0   \n",
       "104    105       0  69.00  63.00     65.00       1    55.00               0   \n",
       "159    160       0  52.00  49.00     58.00       0    62.00               0   \n",
       "144    145       0  52.00  50.00     61.00       0    60.00               1   \n",
       "91      92       0  52.00  57.00     50.80       0    67.00               0   \n",
       "167    168       0  67.90  62.00     67.00       1    58.10               1   \n",
       "142    143       0  85.00  60.00     73.43       1    60.00               1   \n",
       "100    101       1  45.00  57.00     58.00       1    56.39               0   \n",
       "124    125       0  67.00  71.00     64.33       1    64.00               0   \n",
       "12      13       1  47.00  55.00     65.00       0    62.00               0   \n",
       "206    207       0  41.00  42.00     60.00       0    97.00               1   \n",
       "191    192       0  67.00  61.00     72.00       0    72.00               1   \n",
       "57      58       0  68.00  76.00     74.00       0    80.00               1   \n",
       "87      88       0  59.60  51.00     60.00       0    75.00               0   \n",
       "46      47       1  70.89  71.98     65.60       0    68.00               0   \n",
       "51      52       0  54.40  61.12     56.20       0    67.00               0   \n",
       "31      32       1  67.00  53.00     65.00       0    64.00               0   \n",
       "187    188       0  78.50  65.50     67.00       1    95.00               1   \n",
       "161    162       0  55.60  51.00     57.50       0    57.63               0   \n",
       "34      35       0  62.00  51.00     52.00       0    68.44               0   \n",
       "173    174       1  52.00  52.00     55.00       0    67.00               0   \n",
       "73      74       0  64.60  83.83     71.72       0    86.00               1   \n",
       "77      78       0  64.00  80.00     65.00       1    69.00               1   \n",
       "77      78       0  64.00  80.00     65.00       1    69.00               1   \n",
       "120    121       0  58.00  40.00     59.00       0    73.00               0   \n",
       "3        4       0  56.00  52.00     52.00       0    66.00               0   \n",
       "142    143       0  85.00  60.00     73.43       1    60.00               1   \n",
       "182    183       0  52.00  65.00     57.00       1    75.00               1   \n",
       "79      80       1  69.00  62.00     66.00       0    75.00               0   \n",
       "184    185       1  56.28  62.83     59.79       0    60.00               0   \n",
       "72      73       0  84.86  67.00     78.00       0    95.50               1   \n",
       "4        5       0  85.80  73.60     73.30       0    96.80               1   \n",
       "45      46       1  76.00  64.00     72.00       0    58.00               0   \n",
       "\n",
       "     mba_p  \n",
       "64   58.78  \n",
       "214  60.22  \n",
       "125  73.33  \n",
       "52   65.49  \n",
       "155  65.99  \n",
       "190  62.50  \n",
       "36   51.45  \n",
       "76   64.27  \n",
       "30   56.70  \n",
       "104  58.23  \n",
       "159  60.59  \n",
       "144  58.52  \n",
       "91   62.79  \n",
       "167  75.71  \n",
       "142  61.29  \n",
       "100  64.95  \n",
       "124  61.26  \n",
       "12   65.04  \n",
       "206  53.39  \n",
       "191  61.01  \n",
       "57   63.59  \n",
       "87   59.08  \n",
       "46   71.63  \n",
       "51   62.65  \n",
       "31   58.32  \n",
       "187  64.86  \n",
       "161  62.72  \n",
       "34   62.77  \n",
       "173  59.32  \n",
       "73   59.75  \n",
       "77   57.65  \n",
       "77   57.65  \n",
       "120  58.81  \n",
       "3    59.43  \n",
       "142  61.29  \n",
       "182  59.81  \n",
       "79   67.99  \n",
       "184  57.29  \n",
       "72   68.53  \n",
       "4    55.50  \n",
       "45   66.53  "
      ]
     },
     "execution_count": 143,
     "metadata": {},
     "output_type": "execute_result"
    }
   ],
   "source": [
    "X_test"
   ]
  },
  {
   "cell_type": "markdown",
   "metadata": {
    "id": "eYRjOzRs1IK-"
   },
   "source": [
    "# Feature Scaling"
   ]
  },
  {
   "cell_type": "code",
   "execution_count": 144,
   "metadata": {
    "id": "NTdmW-rk1Gix"
   },
   "outputs": [],
   "source": [
    "# scalar las características de x_train y x_test\n",
    "from sklearn.preprocessing import MinMaxScaler\n",
    "# Puedes usar esta celda como punto de partida\n",
    " \n",
    "scaler = MinMaxScaler()\n",
    "X_train_scaled = scaler.fit_transform(X_train)\n",
    "X_test_scaled = scaler.transform(X_test)"
   ]
  },
  {
   "cell_type": "code",
   "execution_count": 145,
   "metadata": {},
   "outputs": [],
   "source": [
    "from sklearn.metrics import accuracy_score"
   ]
  },
  {
   "cell_type": "markdown",
   "metadata": {
    "id": "7-oFkIxg1Tzv"
   },
   "source": [
    "# 1 k-nearest neighbor"
   ]
  },
  {
   "cell_type": "code",
   "execution_count": 146,
   "metadata": {
    "id": "6NRLGHTO1ZEX"
   },
   "outputs": [
    {
     "name": "stdout",
     "output_type": "stream",
     "text": [
      "KNeighborsClassifier Accuracy: 0.8292682926829268\n"
     ]
    }
   ],
   "source": [
    "from sklearn.neighbors import KNeighborsClassifier\n",
    "knn_classifier = KNeighborsClassifier()\n",
    "knn_classifier.fit(X_train_scaled, y_train)\n",
    "knn_preds = knn_classifier.predict(X_test_scaled)\n",
    "knn_accuracy = accuracy_score(y_test, knn_preds)\n",
    "print(\"KNeighborsClassifier Accuracy:\", knn_accuracy)\n",
    " "
   ]
  },
  {
   "cell_type": "code",
   "execution_count": 147,
   "metadata": {
    "colab": {
     "base_uri": "https://localhost:8080/",
     "height": 641
    },
    "id": "2nlfZ0T51chO",
    "outputId": "a79da039-f4c3-4b8d-e709-eaf46214aa3d"
   },
   "outputs": [
    {
     "data": {
      "image/png": "[encoded data removed]",
      "text/plain": [
       "<Figure size 800x600 with 2 Axes>"
      ]
     },
     "metadata": {},
     "output_type": "display_data"
    }
   ],
   "source": [
    "# Matriz de confusión heatmap KNN\n",
    "from sklearn.metrics import confusion_matrix\n",
    "import matplotlib.pyplot as plt\n",
    "import seaborn as sns\n",
    "knn_conf_matrix = confusion_matrix(y_test, knn_preds)\n",
    "\n",
    "plt.figure(figsize=(8, 6))\n",
    "sns.heatmap(dt_conf_matrix, annot=True, fmt=\"d\", cmap=\"Blues\", \n",
    "            xticklabels=['Not Placed', 'Placed'], \n",
    "            yticklabels=['Not Placed', 'Placed'])\n",
    "plt.title('Matriz de Confusión - KNN')\n",
    "plt.xlabel('Predicted')\n",
    "plt.ylabel('Actual')\n",
    "plt.show()"
   ]
  },
  {
   "cell_type": "markdown",
   "metadata": {
    "id": "RbOGmJFV1rxY"
   },
   "source": [
    "# Decision Tree"
   ]
  },
  {
   "cell_type": "code",
   "execution_count": 148,
   "metadata": {
    "id": "4ntxN09r1sZC"
   },
   "outputs": [
    {
     "name": "stdout",
     "output_type": "stream",
     "text": [
      "DecisionTreeClassifier Accuracy: 0.8536585365853658\n"
     ]
    }
   ],
   "source": [
    "# Decision Tree\n",
    "from sklearn.tree import DecisionTreeClassifier\n",
    "dt_classifier = DecisionTreeClassifier()\n",
    "dt_classifier.fit(X_train_scaled, y_train)\n",
    "dt_preds = dt_classifier.predict(X_test_scaled)\n",
    "dt_accuracy = accuracy_score(y_test, dt_preds)\n",
    "print(\"DecisionTreeClassifier Accuracy:\", dt_accuracy)"
   ]
  },
  {
   "cell_type": "code",
   "execution_count": 149,
   "metadata": {},
   "outputs": [],
   "source": [
    "import seaborn as sns\n",
    "from sklearn.metrics import confusion_matrix\n",
    "import matplotlib.pyplot as plt"
   ]
  },
  {
   "cell_type": "code",
   "execution_count": 150,
   "metadata": {
    "colab": {
     "base_uri": "https://localhost:8080/",
     "height": 641
    },
    "id": "IaWvZiUh1xQK",
    "outputId": "892e22af-93dc-4ed1-c037-5631fc3a9c69"
   },
   "outputs": [
    {
     "data": {
      "image/png": "[encoded data removed]",
      "text/plain": [
       "<Figure size 800x600 with 2 Axes>"
      ]
     },
     "metadata": {},
     "output_type": "display_data"
    }
   ],
   "source": [
    "# creating confusion matrix heatmap (Decision Tree)\n",
    "\n",
    "dt_conf_matrix = confusion_matrix(y_test, dt_preds)\n",
    "\n",
    "plt.figure(figsize=(8, 6))\n",
    "sns.heatmap(dt_conf_matrix, annot=True, fmt=\"d\", cmap=\"Blues\", \n",
    "            xticklabels=['Not Placed', 'Placed'], \n",
    "            yticklabels=['Not Placed', 'Placed'])\n",
    "plt.title('Matriz de Confusión - Decision Tree')\n",
    "plt.xlabel('Predicted')\n",
    "plt.ylabel('Actual')\n",
    "plt.show()"
   ]
  },
  {
   "cell_type": "markdown",
   "metadata": {
    "id": "hgsxwGLP10gA"
   },
   "source": [
    "# SVM"
   ]
  },
  {
   "cell_type": "code",
   "execution_count": 151,
   "metadata": {
    "id": "Jj32cp8411HJ"
   },
   "outputs": [
    {
     "name": "stdout",
     "output_type": "stream",
     "text": [
      "SVC Accuracy: 0.8780487804878049\n"
     ]
    }
   ],
   "source": [
    "# Support Vector Machine\n",
    "from sklearn.svm import SVC\n",
    "svm_classifier = SVC()\n",
    "svm_classifier.fit(X_train_scaled, y_train)\n",
    "svm_preds = svm_classifier.predict(X_test_scaled)\n",
    "svm_accuracy = accuracy_score(y_test, svm_preds)\n",
    "print(\"SVC Accuracy:\", svm_accuracy)"
   ]
  },
  {
   "cell_type": "code",
   "execution_count": 152,
   "metadata": {
    "colab": {
     "base_uri": "https://localhost:8080/",
     "height": 641
    },
    "id": "7d3F5fPM16XS",
    "outputId": "174d2dd7-8021-40da-d2e8-d0a04458a7d7"
   },
   "outputs": [
    {
     "data": {
      "image/png": "[encoded data removed]",
      "text/plain": [
       "<Figure size 800x600 with 2 Axes>"
      ]
     },
     "metadata": {},
     "output_type": "display_data"
    }
   ],
   "source": [
    "# creating confusion matrix heatmap SVM\n",
    "\n",
    "svm_conf_matrix = confusion_matrix(y_test, svm_preds)\n",
    "\n",
    "plt.figure(figsize=(8, 6))\n",
    "sns.heatmap(svm_conf_matrix, annot=True, fmt=\"d\", cmap=\"Blues\", \n",
    "            xticklabels=['Not Placed', 'Placed'], \n",
    "            yticklabels=['Not Placed', 'Placed'])\n",
    "plt.title('Matriz de Confusión - SVM')\n",
    "plt.xlabel('Predicted')\n",
    "plt.ylabel('Actual')\n",
    "plt.show()"
   ]
  },
  {
   "cell_type": "markdown",
   "metadata": {
    "id": "A5xF6QtA19ox"
   },
   "source": [
    "# Random Forest"
   ]
  },
  {
   "cell_type": "code",
   "execution_count": 153,
   "metadata": {
    "id": "YiIVbWmN1-Q9"
   },
   "outputs": [
    {
     "name": "stdout",
     "output_type": "stream",
     "text": [
      "RandomForestClassifier Accuracy: 0.9024390243902439\n"
     ]
    }
   ],
   "source": [
    "from sklearn.ensemble import RandomForestClassifier\n",
    "\n",
    "rf_classifier = RandomForestClassifier()\n",
    "rf_classifier.fit(X_train_scaled, y_train)\n",
    "rf_preds = rf_classifier.predict(X_test_scaled)\n",
    "rf_accuracy = accuracy_score(y_test, rf_preds)\n",
    "print(\"RandomForestClassifier Accuracy:\", rf_accuracy)\n"
   ]
  },
  {
   "cell_type": "code",
   "execution_count": 154,
   "metadata": {
    "colab": {
     "base_uri": "https://localhost:8080/",
     "height": 641
    },
    "id": "5Y11v--X2FPJ",
    "outputId": "698c3060-ff4d-406a-97c0-301d7c04a90e"
   },
   "outputs": [
    {
     "data": {
      "image/png": "[encoded data removed]",
      "text/plain": [
       "<Figure size 800x600 with 2 Axes>"
      ]
     },
     "metadata": {},
     "output_type": "display_data"
    }
   ],
   "source": [
    "# creating confusion matrix heatmap - Random Forest\n",
    "rf_conf_matrix = confusion_matrix(y_test, rf_preds)\n",
    "\n",
    "plt.figure(figsize=(8, 6))\n",
    "sns.heatmap(rf_conf_matrix, annot=True, fmt=\"d\", cmap=\"Blues\", \n",
    "            xticklabels=['Not Placed', 'Placed'], \n",
    "            yticklabels=['Not Placed', 'Placed'])\n",
    "plt.title('Matriz de Confusión - Random Forest')\n",
    "plt.xlabel('Predicted')\n",
    "plt.ylabel('Actual')\n",
    "plt.show()\n"
   ]
  },
  {
   "cell_type": "markdown",
   "metadata": {
    "id": "ZS3jh6DJ2LOS"
   },
   "source": [
    "# Gaussian Naive Bayes"
   ]
  },
  {
   "cell_type": "code",
   "execution_count": 155,
   "metadata": {
    "id": "UkiDBrZo2Nuy"
   },
   "outputs": [
    {
     "name": "stdout",
     "output_type": "stream",
     "text": [
      "GaussianNB Accuracy: 0.9024390243902439\n"
     ]
    }
   ],
   "source": [
    "from sklearn.naive_bayes import GaussianNB\n",
    "nb_classifier = GaussianNB()\n",
    "nb_classifier.fit(X_train_scaled, y_train)\n",
    "nb_preds = nb_classifier.predict(X_test_scaled)\n",
    "nb_accuracy = accuracy_score(y_test, nb_preds)\n",
    "print(\"GaussianNB Accuracy:\", nb_accuracy)"
   ]
  },
  {
   "cell_type": "markdown",
   "metadata": {
    "id": "S0JUgFS72R9e"
   },
   "source": [
    "# Logistic Regression"
   ]
  },
  {
   "cell_type": "code",
   "execution_count": 156,
   "metadata": {
    "id": "E8uTE1oA2UnK"
   },
   "outputs": [
    {
     "name": "stdout",
     "output_type": "stream",
     "text": [
      "LogisticRegression Accuracy: 0.926829268292683\n"
     ]
    }
   ],
   "source": [
    "from sklearn.linear_model import LogisticRegression\n",
    "lr_classifier = LogisticRegression()\n",
    "lr_classifier.fit(X_train_scaled, y_train)\n",
    "lr_preds = lr_classifier.predict(X_test_scaled)\n",
    "lr_accuracy = accuracy_score(y_test, lr_preds)\n",
    "print(\"LogisticRegression Accuracy:\", lr_accuracy)"
   ]
  },
  {
   "cell_type": "markdown",
   "metadata": {
    "id": "oxj70g6-2ZPI"
   },
   "source": [
    "## Single Input Predictions\n",
    "\n",
    "Test si está prediciendo adecuadamente"
   ]
  },
  {
   "cell_type": "code",
   "execution_count": 157,
   "metadata": {
    "colab": {
     "base_uri": "https://localhost:8080/"
    },
    "id": "8nBkxUzf2IFZ",
    "outputId": "90ac5e76-0b9b-462d-baa5-885def99bb50"
   },
   "outputs": [
    {
     "data": {
      "text/html": [
       "<div>\n",
       "<style scoped>\n",
       "    .dataframe tbody tr th:only-of-type {\n",
       "        vertical-align: middle;\n",
       "    }\n",
       "\n",
       "    .dataframe tbody tr th {\n",
       "        vertical-align: top;\n",
       "    }\n",
       "\n",
       "    .dataframe thead th {\n",
       "        text-align: right;\n",
       "    }\n",
       "</style>\n",
       "<table border=\"1\" class=\"dataframe\">\n",
       "  <thead>\n",
       "    <tr style=\"text-align: right;\">\n",
       "      <th></th>\n",
       "      <th>sl_no</th>\n",
       "      <th>gender</th>\n",
       "      <th>ssc_p</th>\n",
       "      <th>hsc_p</th>\n",
       "      <th>degree_p</th>\n",
       "      <th>workex</th>\n",
       "      <th>etest_p</th>\n",
       "      <th>specialisation</th>\n",
       "      <th>mba_p</th>\n",
       "      <th>status</th>\n",
       "    </tr>\n",
       "  </thead>\n",
       "  <tbody>\n",
       "    <tr>\n",
       "      <th>55</th>\n",
       "      <td>56</td>\n",
       "      <td>0</td>\n",
       "      <td>60.40</td>\n",
       "      <td>66.6</td>\n",
       "      <td>65.0</td>\n",
       "      <td>0</td>\n",
       "      <td>71.0</td>\n",
       "      <td>0</td>\n",
       "      <td>52.71</td>\n",
       "      <td>0</td>\n",
       "    </tr>\n",
       "    <tr>\n",
       "      <th>10</th>\n",
       "      <td>11</td>\n",
       "      <td>0</td>\n",
       "      <td>58.00</td>\n",
       "      <td>61.0</td>\n",
       "      <td>60.0</td>\n",
       "      <td>1</td>\n",
       "      <td>62.0</td>\n",
       "      <td>0</td>\n",
       "      <td>60.85</td>\n",
       "      <td>0</td>\n",
       "    </tr>\n",
       "    <tr>\n",
       "      <th>75</th>\n",
       "      <td>76</td>\n",
       "      <td>1</td>\n",
       "      <td>59.00</td>\n",
       "      <td>62.0</td>\n",
       "      <td>77.5</td>\n",
       "      <td>0</td>\n",
       "      <td>74.0</td>\n",
       "      <td>0</td>\n",
       "      <td>67.00</td>\n",
       "      <td>1</td>\n",
       "    </tr>\n",
       "    <tr>\n",
       "      <th>14</th>\n",
       "      <td>15</td>\n",
       "      <td>0</td>\n",
       "      <td>62.00</td>\n",
       "      <td>47.0</td>\n",
       "      <td>50.0</td>\n",
       "      <td>0</td>\n",
       "      <td>76.0</td>\n",
       "      <td>0</td>\n",
       "      <td>54.96</td>\n",
       "      <td>1</td>\n",
       "    </tr>\n",
       "    <tr>\n",
       "      <th>120</th>\n",
       "      <td>121</td>\n",
       "      <td>0</td>\n",
       "      <td>58.00</td>\n",
       "      <td>40.0</td>\n",
       "      <td>59.0</td>\n",
       "      <td>0</td>\n",
       "      <td>73.0</td>\n",
       "      <td>0</td>\n",
       "      <td>58.81</td>\n",
       "      <td>1</td>\n",
       "    </tr>\n",
       "    <tr>\n",
       "      <th>122</th>\n",
       "      <td>123</td>\n",
       "      <td>1</td>\n",
       "      <td>66.50</td>\n",
       "      <td>66.8</td>\n",
       "      <td>69.3</td>\n",
       "      <td>1</td>\n",
       "      <td>80.4</td>\n",
       "      <td>1</td>\n",
       "      <td>71.00</td>\n",
       "      <td>0</td>\n",
       "    </tr>\n",
       "    <tr>\n",
       "      <th>2</th>\n",
       "      <td>3</td>\n",
       "      <td>0</td>\n",
       "      <td>65.00</td>\n",
       "      <td>68.0</td>\n",
       "      <td>64.0</td>\n",
       "      <td>0</td>\n",
       "      <td>75.0</td>\n",
       "      <td>1</td>\n",
       "      <td>57.80</td>\n",
       "      <td>0</td>\n",
       "    </tr>\n",
       "    <tr>\n",
       "      <th>25</th>\n",
       "      <td>26</td>\n",
       "      <td>1</td>\n",
       "      <td>52.58</td>\n",
       "      <td>54.6</td>\n",
       "      <td>50.2</td>\n",
       "      <td>1</td>\n",
       "      <td>76.0</td>\n",
       "      <td>1</td>\n",
       "      <td>65.33</td>\n",
       "      <td>1</td>\n",
       "    </tr>\n",
       "    <tr>\n",
       "      <th>196</th>\n",
       "      <td>197</td>\n",
       "      <td>0</td>\n",
       "      <td>72.00</td>\n",
       "      <td>63.0</td>\n",
       "      <td>77.5</td>\n",
       "      <td>1</td>\n",
       "      <td>78.0</td>\n",
       "      <td>1</td>\n",
       "      <td>54.48</td>\n",
       "      <td>0</td>\n",
       "    </tr>\n",
       "    <tr>\n",
       "      <th>102</th>\n",
       "      <td>103</td>\n",
       "      <td>1</td>\n",
       "      <td>77.00</td>\n",
       "      <td>61.0</td>\n",
       "      <td>68.0</td>\n",
       "      <td>1</td>\n",
       "      <td>57.5</td>\n",
       "      <td>1</td>\n",
       "      <td>61.31</td>\n",
       "      <td>0</td>\n",
       "    </tr>\n",
       "  </tbody>\n",
       "</table>\n",
       "</div>"
      ],
      "text/plain": [
       "     sl_no  gender  ssc_p  hsc_p  degree_p  workex  etest_p  specialisation  \\\n",
       "55      56       0  60.40   66.6      65.0       0     71.0               0   \n",
       "10      11       0  58.00   61.0      60.0       1     62.0               0   \n",
       "75      76       1  59.00   62.0      77.5       0     74.0               0   \n",
       "14      15       0  62.00   47.0      50.0       0     76.0               0   \n",
       "120    121       0  58.00   40.0      59.0       0     73.0               0   \n",
       "122    123       1  66.50   66.8      69.3       1     80.4               1   \n",
       "2        3       0  65.00   68.0      64.0       0     75.0               1   \n",
       "25      26       1  52.58   54.6      50.2       1     76.0               1   \n",
       "196    197       0  72.00   63.0      77.5       1     78.0               1   \n",
       "102    103       1  77.00   61.0      68.0       1     57.5               1   \n",
       "\n",
       "     mba_p  status  \n",
       "55   52.71       0  \n",
       "10   60.85       0  \n",
       "75   67.00       1  \n",
       "14   54.96       1  \n",
       "120  58.81       1  \n",
       "122  71.00       0  \n",
       "2    57.80       0  \n",
       "25   65.33       1  \n",
       "196  54.48       0  \n",
       "102  61.31       0  "
      ]
     },
     "execution_count": 157,
     "metadata": {},
     "output_type": "execute_result"
    }
   ],
   "source": [
    "tmp.sample(n=10)"
   ]
  },
  {
   "cell_type": "code",
   "execution_count": 162,
   "metadata": {},
   "outputs": [
    {
     "name": "stdout",
     "output_type": "stream",
     "text": [
      "   sl_no gender  ssc_p  hsc_p  degree_p workex  etest_p specialisation  mba_p\n",
      "0    185      F  56.28  62.83     59.79     No     60.0         Mkt&HR  57.29\n"
     ]
    }
   ],
   "source": [
    "sl_no = 185\n",
    "gender = 'F'\n",
    "ssc_p = 56.28\n",
    "hsc_p = 62.83\n",
    "degree_p = 59.79\n",
    "workex = 'No'\n",
    "etest_p = 60.00\n",
    "specialisation = 'Mkt&HR'\n",
    "mba_p = 57.29\n",
    "\n",
    " \n",
    "data = [[sl_no, gender, ssc_p, hsc_p, degree_p, workex, etest_p, specialisation, mba_p]]\n",
    "columns = ['sl_no', 'gender', 'ssc_p', 'hsc_p', 'degree_p', 'workex', 'etest_p', 'specialisation', 'mba_p']\n",
    "df = pd.DataFrame(data, columns=columns)\n",
    "print(df)\n",
    "\n"
   ]
  },
  {
   "cell_type": "markdown",
   "metadata": {
    "id": "JmrQq4iU3lpS"
   },
   "source": [
    "# Sistema de Predicción"
   ]
  },
  {
   "cell_type": "code",
   "execution_count": 171,
   "metadata": {
    "id": "3LteMjGZ3rt0"
   },
   "outputs": [],
   "source": [
    "def prediction(sl_no, gender, ssc_p, hsc_p, degree_p, workex, etest_p, specialisation, mba_p):\n",
    "    # Codificar las variables categóricas: gender, workex y specialisation\n",
    "    data = [[sl_no, gender, ssc_p, hsc_p, degree_p, workex, etest_p, specialisation, mba_p]]\n",
    "    columns = ['sl_no', 'gender', 'ssc_p', 'hsc_p', 'degree_p', 'workex', 'etest_p', 'specialisation', 'mba_p']\n",
    "    df = pd.DataFrame(data, columns=columns)\n",
    "\n",
    "    specialisation_mapping = {'Mkt&HR': 0, 'Mkt&Fin': 1}\n",
    "    status_mapping = {'Placed': 0, 'Not Placed': 1}\n",
    "    workex_mapping = {'No': 0, 'Yes': 1}\n",
    "    gender_mapping = {'M': 0, 'F': 1}\n",
    "    \n",
    "    df['specialisation'] = df['specialisation'].map(specialisation_mapping)\n",
    "    df['workex'] = df['workex'].map(workex_mapping)\n",
    "    df['gender'] = df['gender'].map(gender_mapping)\n",
    "    \n",
    "    df_t = scaler.transform(df)\n",
    "    prediction = rf_classifier.predict(df_t)\n",
    "\n",
    "    return prediction"
   ]
  },
  {
   "cell_type": "code",
   "execution_count": 172,
   "metadata": {
    "id": "11iL0Y6A3uxs"
   },
   "outputs": [
    {
     "name": "stdout",
     "output_type": "stream",
     "text": [
      "[1]\n",
      "contratado\n"
     ]
    }
   ],
   "source": [
    "sl_no =11\n",
    "gender = \"F\"\n",
    "ssc_p =58.\n",
    "hsc_p = 61.\n",
    "degree_p = 60.\n",
    "workex = \"Yes\"\n",
    "etest_p = 62.\n",
    "specialisation = \"Mkt&Fin\"\n",
    "mba_p = 60.85\n",
    "\n",
    "result = prediction(sl_no, gender, ssc_p, hsc_p, degree_p, workex, etest_p, specialisation, mba_p)\n",
    "\n",
    "print(result)\n",
    "\n",
    "if result == 1:\n",
    "    print('contratado')\n",
    "\n",
    "else:\n",
    "    print('No Contratado')"
   ]
  },
  {
   "cell_type": "markdown",
   "metadata": {
    "id": "54q3GR6F4toM"
   },
   "source": [
    "\n",
    "Se emplea un modelo de Clasificador Random Forest para predecir las colocaciones laborales basadas en características de entrada como los puntajes académicos, la experiencia laboral y otros factores relevantes. El modelo se entrena con datos históricos para aprender patrones y hacer predicciones precisas."
   ]
  },
  {
   "cell_type": "markdown",
   "metadata": {
    "id": "PErhQHSK37dq"
   },
   "source": [
    "# Guardar Archivos"
   ]
  },
  {
   "cell_type": "code",
   "execution_count": 174,
   "metadata": {
    "id": "Kox52EUB36dm"
   },
   "outputs": [],
   "source": [
    "import pickle\n",
    "pickle.dump(rf_classifier,open('model.pkl','wb'))\n",
    "pickle.dump(scaler,open('scaler.pkl','wb'))"
   ]
  }
 ],
 "metadata": {
  "colab": {
   "provenance": []
  },
  "kernelspec": {
   "display_name": "Python 3 (ipykernel)",
   "language": "python",
   "name": "python3"
  },
  "language_info": {
   "codemirror_mode": {
    "name": "ipython",
    "version": 3
   },
   "file_extension": ".py",
   "mimetype": "text/x-python",
   "name": "python",
   "nbconvert_exporter": "python",
   "pygments_lexer": "ipython3",
   "version": "3.11.5"
  }
 },
 "nbformat": 4,
 "nbformat_minor": 4
}
